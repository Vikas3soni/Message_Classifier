{
  "nbformat": 4,
  "nbformat_minor": 0,
  "metadata": {
    "colab": {
      "name": "qs_Classifier.ipynb",
      "version": "0.3.2",
      "provenance": [],
      "collapsed_sections": []
    },
    "kernelspec": {
      "name": "python3",
      "display_name": "Python 3"
    }
  },
  "cells": [
    {
      "metadata": {
        "id": "M2SxTvQx5bht",
        "colab_type": "text"
      },
      "cell_type": "markdown",
      "source": [
        "Data loading"
      ]
    },
    {
      "metadata": {
        "id": "13QOEIzM3-Wt",
        "colab_type": "code",
        "outputId": "c6c74057-d627-45b6-d684-b0c55710a96d",
        "colab": {
          "base_uri": "https://localhost:8080/",
          "height": 221
        }
      },
      "cell_type": "code",
      "source": [
        "import numpy as np # linear algebra\n",
        "import pandas as pd # \n",
        "\n",
        "\n",
        "df=pd.read_csv('qs_data.csv')\n",
        "print(df.shape)\n",
        "#df=df[:50000]\n",
        "df.head()\n"
      ],
      "execution_count": 0,
      "outputs": [
        {
          "output_type": "stream",
          "text": [
            "(132271, 4)\n"
          ],
          "name": "stdout"
        },
        {
          "output_type": "execute_result",
          "data": {
            "text/html": [
              "<div>\n",
              "<style scoped>\n",
              "    .dataframe tbody tr th:only-of-type {\n",
              "        vertical-align: middle;\n",
              "    }\n",
              "\n",
              "    .dataframe tbody tr th {\n",
              "        vertical-align: top;\n",
              "    }\n",
              "\n",
              "    .dataframe thead th {\n",
              "        text-align: right;\n",
              "    }\n",
              "</style>\n",
              "<table border=\"1\" class=\"dataframe\">\n",
              "  <thead>\n",
              "    <tr style=\"text-align: right;\">\n",
              "      <th></th>\n",
              "      <th>message_code</th>\n",
              "      <th>dch</th>\n",
              "      <th>keyword_id</th>\n",
              "      <th>consumed</th>\n",
              "    </tr>\n",
              "  </thead>\n",
              "  <tbody>\n",
              "    <tr>\n",
              "      <th>0</th>\n",
              "      <td>1000020315</td>\n",
              "      <td>1</td>\n",
              "      <td>921</td>\n",
              "      <td>0</td>\n",
              "    </tr>\n",
              "    <tr>\n",
              "      <th>1</th>\n",
              "      <td>100002994</td>\n",
              "      <td>0</td>\n",
              "      <td>1209</td>\n",
              "      <td>0</td>\n",
              "    </tr>\n",
              "    <tr>\n",
              "      <th>2</th>\n",
              "      <td>100005246</td>\n",
              "      <td>2</td>\n",
              "      <td>245</td>\n",
              "      <td>0</td>\n",
              "    </tr>\n",
              "    <tr>\n",
              "      <th>3</th>\n",
              "      <td>1000061077</td>\n",
              "      <td>2</td>\n",
              "      <td>554</td>\n",
              "      <td>0</td>\n",
              "    </tr>\n",
              "    <tr>\n",
              "      <th>4</th>\n",
              "      <td>1000061736</td>\n",
              "      <td>1</td>\n",
              "      <td>708</td>\n",
              "      <td>0</td>\n",
              "    </tr>\n",
              "  </tbody>\n",
              "</table>\n",
              "</div>"
            ],
            "text/plain": [
              "   message_code  dch keyword_id  consumed\n",
              "0    1000020315    1        921         0\n",
              "1     100002994    0       1209         0\n",
              "2     100005246    2        245         0\n",
              "3    1000061077    2        554         0\n",
              "4    1000061736    1        708         0"
            ]
          },
          "metadata": {
            "tags": []
          },
          "execution_count": 9
        }
      ]
    },
    {
      "metadata": {
        "id": "9jwRRMrU50zz",
        "colab_type": "text"
      },
      "cell_type": "markdown",
      "source": [
        "checking data shape and type >>data is looking imbalance"
      ]
    },
    {
      "metadata": {
        "id": "dRPFUZZz4c2H",
        "colab_type": "code",
        "outputId": "b6dbbc94-e645-44a3-b37f-7b623a135427",
        "colab": {
          "base_uri": "https://localhost:8080/",
          "height": 68
        }
      },
      "cell_type": "code",
      "source": [
        "df.shape\n",
        "df['keyword_id'].nunique()\n",
        "df['consumed'].value_counts(normalize=True)"
      ],
      "execution_count": 0,
      "outputs": [
        {
          "output_type": "execute_result",
          "data": {
            "text/plain": [
              "0    0.72737\n",
              "1    0.27263\n",
              "Name: consumed, dtype: float64"
            ]
          },
          "metadata": {
            "tags": []
          },
          "execution_count": 10
        }
      ]
    },
    {
      "metadata": {
        "id": "noRemYvr5W2o",
        "colab_type": "code",
        "colab": {}
      },
      "cell_type": "code",
      "source": [
        "#df['keyword_id'].value_counts().sort_values(ascending=False)"
      ],
      "execution_count": 0,
      "outputs": []
    },
    {
      "metadata": {
        "id": "5RniIzC-4m9T",
        "colab_type": "code",
        "outputId": "142584e8-bd44-4b99-de47-b89cd47cd85b",
        "colab": {
          "base_uri": "https://localhost:8080/",
          "height": 102
        }
      },
      "cell_type": "code",
      "source": [
        "df.dtypes"
      ],
      "execution_count": 0,
      "outputs": [
        {
          "output_type": "execute_result",
          "data": {
            "text/plain": [
              "message_code     int64\n",
              "dch              int64\n",
              "keyword_id      object\n",
              "consumed         int64\n",
              "dtype: object"
            ]
          },
          "metadata": {
            "tags": []
          },
          "execution_count": 91
        }
      ]
    },
    {
      "metadata": {
        "id": "HDmuS_tk6DYa",
        "colab_type": "text"
      },
      "cell_type": "markdown",
      "source": [
        "Column '**keyword_id **'  have more value seprated by commas.\n",
        "\n",
        "convert comma seperated value in new column. "
      ]
    },
    {
      "metadata": {
        "id": "YMgmgnBO4qi9",
        "colab_type": "code",
        "outputId": "6a011a1c-0727-4390-d906-28c2e67cf469",
        "colab": {
          "base_uri": "https://localhost:8080/",
          "height": 111
        }
      },
      "cell_type": "code",
      "source": [
        "df1 = df['keyword_id'].apply(lambda x: pd.Series(x.split(',')))\n",
        "df1.rename(columns={0:'var1',1:'var2',2:'var3',3:'var4',4:'var5',5:'var6'},inplace=True)\n",
        "df1.head(2)"
      ],
      "execution_count": 0,
      "outputs": [
        {
          "output_type": "execute_result",
          "data": {
            "text/html": [
              "<div>\n",
              "<style scoped>\n",
              "    .dataframe tbody tr th:only-of-type {\n",
              "        vertical-align: middle;\n",
              "    }\n",
              "\n",
              "    .dataframe tbody tr th {\n",
              "        vertical-align: top;\n",
              "    }\n",
              "\n",
              "    .dataframe thead th {\n",
              "        text-align: right;\n",
              "    }\n",
              "</style>\n",
              "<table border=\"1\" class=\"dataframe\">\n",
              "  <thead>\n",
              "    <tr style=\"text-align: right;\">\n",
              "      <th></th>\n",
              "      <th>var1</th>\n",
              "      <th>var2</th>\n",
              "      <th>var3</th>\n",
              "      <th>var4</th>\n",
              "      <th>var5</th>\n",
              "      <th>var6</th>\n",
              "    </tr>\n",
              "  </thead>\n",
              "  <tbody>\n",
              "    <tr>\n",
              "      <th>0</th>\n",
              "      <td>921</td>\n",
              "      <td>NaN</td>\n",
              "      <td>NaN</td>\n",
              "      <td>NaN</td>\n",
              "      <td>NaN</td>\n",
              "      <td>NaN</td>\n",
              "    </tr>\n",
              "    <tr>\n",
              "      <th>1</th>\n",
              "      <td>1209</td>\n",
              "      <td>NaN</td>\n",
              "      <td>NaN</td>\n",
              "      <td>NaN</td>\n",
              "      <td>NaN</td>\n",
              "      <td>NaN</td>\n",
              "    </tr>\n",
              "  </tbody>\n",
              "</table>\n",
              "</div>"
            ],
            "text/plain": [
              "   var1 var2 var3 var4 var5 var6\n",
              "0   921  NaN  NaN  NaN  NaN  NaN\n",
              "1  1209  NaN  NaN  NaN  NaN  NaN"
            ]
          },
          "metadata": {
            "tags": []
          },
          "execution_count": 12
        }
      ]
    },
    {
      "metadata": {
        "id": "Cqu68Cy66tv4",
        "colab_type": "text"
      },
      "cell_type": "markdown",
      "source": [
        "imputing nan as 0 value"
      ]
    },
    {
      "metadata": {
        "id": "cAwStEMw4ukW",
        "colab_type": "code",
        "outputId": "dc85a83a-e9be-42ef-b59d-5e686c23b9c7",
        "colab": {
          "base_uri": "https://localhost:8080/",
          "height": 204
        }
      },
      "cell_type": "code",
      "source": [
        "result = pd.concat([df, df1], axis=1, join_axes=[df.index])\n",
        "result.head()\n",
        "result[['var2', 'var3','var4','var5','var6']] = result[['var2', 'var3','var4','var5','var6']].fillna(value=0)\n",
        "result[['var1','var2','var3','var4','var5','var6']]=result[['var1','var2','var3','var4','var5','var6']].astype(int)\n",
        "result.dtypes\n",
        "result.head()"
      ],
      "execution_count": 0,
      "outputs": [
        {
          "output_type": "execute_result",
          "data": {
            "text/html": [
              "<div>\n",
              "<style scoped>\n",
              "    .dataframe tbody tr th:only-of-type {\n",
              "        vertical-align: middle;\n",
              "    }\n",
              "\n",
              "    .dataframe tbody tr th {\n",
              "        vertical-align: top;\n",
              "    }\n",
              "\n",
              "    .dataframe thead th {\n",
              "        text-align: right;\n",
              "    }\n",
              "</style>\n",
              "<table border=\"1\" class=\"dataframe\">\n",
              "  <thead>\n",
              "    <tr style=\"text-align: right;\">\n",
              "      <th></th>\n",
              "      <th>message_code</th>\n",
              "      <th>dch</th>\n",
              "      <th>keyword_id</th>\n",
              "      <th>consumed</th>\n",
              "      <th>var1</th>\n",
              "      <th>var2</th>\n",
              "      <th>var3</th>\n",
              "      <th>var4</th>\n",
              "      <th>var5</th>\n",
              "      <th>var6</th>\n",
              "    </tr>\n",
              "  </thead>\n",
              "  <tbody>\n",
              "    <tr>\n",
              "      <th>0</th>\n",
              "      <td>1000020315</td>\n",
              "      <td>1</td>\n",
              "      <td>921</td>\n",
              "      <td>0</td>\n",
              "      <td>921</td>\n",
              "      <td>0</td>\n",
              "      <td>0</td>\n",
              "      <td>0</td>\n",
              "      <td>0</td>\n",
              "      <td>0</td>\n",
              "    </tr>\n",
              "    <tr>\n",
              "      <th>1</th>\n",
              "      <td>100002994</td>\n",
              "      <td>0</td>\n",
              "      <td>1209</td>\n",
              "      <td>0</td>\n",
              "      <td>1209</td>\n",
              "      <td>0</td>\n",
              "      <td>0</td>\n",
              "      <td>0</td>\n",
              "      <td>0</td>\n",
              "      <td>0</td>\n",
              "    </tr>\n",
              "    <tr>\n",
              "      <th>2</th>\n",
              "      <td>100005246</td>\n",
              "      <td>2</td>\n",
              "      <td>245</td>\n",
              "      <td>0</td>\n",
              "      <td>245</td>\n",
              "      <td>0</td>\n",
              "      <td>0</td>\n",
              "      <td>0</td>\n",
              "      <td>0</td>\n",
              "      <td>0</td>\n",
              "    </tr>\n",
              "    <tr>\n",
              "      <th>3</th>\n",
              "      <td>1000061077</td>\n",
              "      <td>2</td>\n",
              "      <td>554</td>\n",
              "      <td>0</td>\n",
              "      <td>554</td>\n",
              "      <td>0</td>\n",
              "      <td>0</td>\n",
              "      <td>0</td>\n",
              "      <td>0</td>\n",
              "      <td>0</td>\n",
              "    </tr>\n",
              "    <tr>\n",
              "      <th>4</th>\n",
              "      <td>1000061736</td>\n",
              "      <td>1</td>\n",
              "      <td>708</td>\n",
              "      <td>0</td>\n",
              "      <td>708</td>\n",
              "      <td>0</td>\n",
              "      <td>0</td>\n",
              "      <td>0</td>\n",
              "      <td>0</td>\n",
              "      <td>0</td>\n",
              "    </tr>\n",
              "  </tbody>\n",
              "</table>\n",
              "</div>"
            ],
            "text/plain": [
              "   message_code  dch keyword_id  consumed  var1  var2  var3  var4  var5  var6\n",
              "0    1000020315    1        921         0   921     0     0     0     0     0\n",
              "1     100002994    0       1209         0  1209     0     0     0     0     0\n",
              "2     100005246    2        245         0   245     0     0     0     0     0\n",
              "3    1000061077    2        554         0   554     0     0     0     0     0\n",
              "4    1000061736    1        708         0   708     0     0     0     0     0"
            ]
          },
          "metadata": {
            "tags": []
          },
          "execution_count": 13
        }
      ]
    },
    {
      "metadata": {
        "id": "_ZVVC63040iu",
        "colab_type": "code",
        "outputId": "16b575c5-58c9-4cfb-de66-2a8455127e14",
        "colab": {
          "base_uri": "https://localhost:8080/",
          "height": 80
        }
      },
      "cell_type": "code",
      "source": [
        "result.drop(['message_code','keyword_id'], axis=1,inplace=True)\n",
        "result.head(1)"
      ],
      "execution_count": 0,
      "outputs": [
        {
          "output_type": "execute_result",
          "data": {
            "text/html": [
              "<div>\n",
              "<style scoped>\n",
              "    .dataframe tbody tr th:only-of-type {\n",
              "        vertical-align: middle;\n",
              "    }\n",
              "\n",
              "    .dataframe tbody tr th {\n",
              "        vertical-align: top;\n",
              "    }\n",
              "\n",
              "    .dataframe thead th {\n",
              "        text-align: right;\n",
              "    }\n",
              "</style>\n",
              "<table border=\"1\" class=\"dataframe\">\n",
              "  <thead>\n",
              "    <tr style=\"text-align: right;\">\n",
              "      <th></th>\n",
              "      <th>dch</th>\n",
              "      <th>consumed</th>\n",
              "      <th>var1</th>\n",
              "      <th>var2</th>\n",
              "      <th>var3</th>\n",
              "      <th>var4</th>\n",
              "      <th>var5</th>\n",
              "      <th>var6</th>\n",
              "    </tr>\n",
              "  </thead>\n",
              "  <tbody>\n",
              "    <tr>\n",
              "      <th>0</th>\n",
              "      <td>1</td>\n",
              "      <td>0</td>\n",
              "      <td>921</td>\n",
              "      <td>0</td>\n",
              "      <td>0</td>\n",
              "      <td>0</td>\n",
              "      <td>0</td>\n",
              "      <td>0</td>\n",
              "    </tr>\n",
              "  </tbody>\n",
              "</table>\n",
              "</div>"
            ],
            "text/plain": [
              "   dch  consumed  var1  var2  var3  var4  var5  var6\n",
              "0    1         0   921     0     0     0     0     0"
            ]
          },
          "metadata": {
            "tags": []
          },
          "execution_count": 14
        }
      ]
    },
    {
      "metadata": {
        "id": "JdVyjBLf440-",
        "colab_type": "code",
        "outputId": "4465e129-41f9-461c-f7fa-42a7126c30ff",
        "colab": {
          "base_uri": "https://localhost:8080/",
          "height": 170
        }
      },
      "cell_type": "code",
      "source": [
        "result.head()\n",
        "result.dtypes"
      ],
      "execution_count": 0,
      "outputs": [
        {
          "output_type": "execute_result",
          "data": {
            "text/plain": [
              "dch         int64\n",
              "consumed    int64\n",
              "var1        int64\n",
              "var2        int64\n",
              "var3        int64\n",
              "var4        int64\n",
              "var5        int64\n",
              "var6        int64\n",
              "dtype: object"
            ]
          },
          "metadata": {
            "tags": []
          },
          "execution_count": 15
        }
      ]
    },
    {
      "metadata": {
        "id": "-Xs6d8AB67aR",
        "colab_type": "text"
      },
      "cell_type": "markdown",
      "source": [
        "distribution of the data so that we can find some intiution "
      ]
    },
    {
      "metadata": {
        "id": "e2RBmBKhf_cq",
        "colab_type": "code",
        "outputId": "79789136-50ad-4729-e0a8-2a530f7ae418",
        "colab": {
          "base_uri": "https://localhost:8080/",
          "height": 395
        }
      },
      "cell_type": "code",
      "source": [
        "import matplotlib.pyplot as plt\n",
        "import seaborn as sns\n",
        "sns.boxplot(x='var1',data=result,hue='consumed')\n",
        "dump=result[result['var1']>6000]\n",
        "#sns.boxplot(x='var1',data=dump,hue='consumed')\n",
        "#result=result[result['var1']<8000]"
      ],
      "execution_count": 0,
      "outputs": [
        {
          "output_type": "stream",
          "text": [
            "/usr/local/lib/python3.6/dist-packages/seaborn/categorical.py:454: FutureWarning: remove_na is deprecated and is a private function. Do not use.\n",
            "  box_data = remove_na(group_data)\n"
          ],
          "name": "stderr"
        },
        {
          "output_type": "display_data",
          "data": {
            "image/png": "[encoded data removed]",
            "text/plain": [
              "<Figure size 576x396 with 1 Axes>"
            ]
          },
          "metadata": {
            "tags": []
          }
        }
      ]
    },
    {
      "metadata": {
        "id": "CO0sbGR2gB6v",
        "colab_type": "code",
        "outputId": "fb5b1f9f-56a0-4b7d-fbd8-96770df5c1e3",
        "colab": {
          "base_uri": "https://localhost:8080/",
          "height": 413
        }
      },
      "cell_type": "code",
      "source": [
        "result[result['var1']>6000].count()\n",
        "pos=result[result['consumed']==1]\n",
        "neg=result[result['consumed']==0]\n",
        "print(pos.shape[0], neg.shape[0])\n",
        "ax1=sns.boxplot(y='var1',data=result,x='consumed')\n",
        "#ax2=sns.boxplot(x='var1',data=neg,hue='consumed')"
      ],
      "execution_count": 0,
      "outputs": [
        {
          "output_type": "stream",
          "text": [
            "36061 96210\n"
          ],
          "name": "stdout"
        },
        {
          "output_type": "stream",
          "text": [
            "/usr/local/lib/python3.6/dist-packages/seaborn/categorical.py:454: FutureWarning: remove_na is deprecated and is a private function. Do not use.\n",
            "  box_data = remove_na(group_data)\n"
          ],
          "name": "stderr"
        },
        {
          "output_type": "display_data",
          "data": {
            "image/png": "[encoded data removed]",
            "text/plain": [
              "<Figure size 576x396 with 1 Axes>"
            ]
          },
          "metadata": {
            "tags": []
          }
        }
      ]
    },
    {
      "metadata": {
        "id": "WzhsTbd0gL-w",
        "colab_type": "code",
        "outputId": "9707efa7-8b7f-4da6-8353-9ae4dff70843",
        "colab": {
          "base_uri": "https://localhost:8080/",
          "height": 429
        }
      },
      "cell_type": "code",
      "source": [
        "x=result['var1'] \n",
        "sns.distplot(result['var1'], hist=True, kde=False, \n",
        "             bins=200, color = 'blue',\n",
        "             hist_kws={'edgecolor':'black'})\n",
        "\n",
        "#sns.distplot(result['var2'], hist=True, kde=False, bins=200, color = 'blue', hist_kws={'edgecolor':'black'})\n",
        "#sns.distplot(result['var3'], hist=True, kde=False, bins=200, color = 'blue',hist_kws={'edgecolor':'black'})"
      ],
      "execution_count": 0,
      "outputs": [
        {
          "output_type": "stream",
          "text": [
            "/usr/local/lib/python3.6/dist-packages/matplotlib/axes/_axes.py:6521: MatplotlibDeprecationWarning: \n",
            "The 'normed' kwarg was deprecated in Matplotlib 2.1 and will be removed in 3.1. Use 'density' instead.\n",
            "  alternative=\"'density'\", removal=\"3.1\")\n"
          ],
          "name": "stderr"
        },
        {
          "output_type": "execute_result",
          "data": {
            "text/plain": [
              "<matplotlib.axes._subplots.AxesSubplot at 0x7fe14e372cc0>"
            ]
          },
          "metadata": {
            "tags": []
          },
          "execution_count": 18
        },
        {
          "output_type": "display_data",
          "data": {
            "image/png": "[encoded data removed]",
            "text/plain": [
              "<Figure size 576x396 with 1 Axes>"
            ]
          },
          "metadata": {
            "tags": []
          }
        }
      ]
    },
    {
      "metadata": {
        "id": "rqfMpPksgefo",
        "colab_type": "code",
        "colab": {}
      },
      "cell_type": "code",
      "source": [
        "result['var1'].value_counts().sort_values(ascending=False)\n",
        "#print(result[['var1','consumed']].groupby(['var1']).count().sort_values(by='consumed',ascending=False))\n",
        "pos=result[result['consumed']==1]\n",
        "neg=result[result['consumed']==0]\n",
        "#print(pos[['var1','consumed']].groupby(['var1']).count().sort_values(by='consumed',ascending=False))\n",
        "#print(neg[['var1','consumed']].groupby(['var1']).count().sort_values(by='consumed',ascending=False))"
      ],
      "execution_count": 0,
      "outputs": []
    },
    {
      "metadata": {
        "id": "_GiUEqbF7a84",
        "colab_type": "text"
      },
      "cell_type": "markdown",
      "source": [
        "correlation check among the features"
      ]
    },
    {
      "metadata": {
        "id": "Jbt9vgbT5FGU",
        "colab_type": "code",
        "outputId": "141d673e-bdca-42cd-a667-7a3c58f27455",
        "colab": {
          "base_uri": "https://localhost:8080/",
          "height": 364
        }
      },
      "cell_type": "code",
      "source": [
        "import seaborn as sns\n",
        "import matplotlib.pyplot as plt\n",
        "sns.heatmap(result.corr(),annot=True,fmt='0.2f')"
      ],
      "execution_count": 0,
      "outputs": [
        {
          "output_type": "execute_result",
          "data": {
            "text/plain": [
              "<matplotlib.axes._subplots.AxesSubplot at 0x7fe14dbb4cc0>"
            ]
          },
          "metadata": {
            "tags": []
          },
          "execution_count": 19
        },
        {
          "output_type": "display_data",
          "data": {
            "image/png": "[encoded data removed]",
            "text/plain": [
              "<Figure size 576x396 with 2 Axes>"
            ]
          },
          "metadata": {
            "tags": []
          }
        }
      ]
    },
    {
      "metadata": {
        "id": "EEPIngvt7k4d",
        "colab_type": "text"
      },
      "cell_type": "markdown",
      "source": [
        "setting the data for model building"
      ]
    },
    {
      "metadata": {
        "id": "t5u4so7u5Juj",
        "colab_type": "code",
        "colab": {}
      },
      "cell_type": "code",
      "source": [
        "y=result['consumed']\n",
        "result.drop(['consumed'], axis=1,inplace=True)\n",
        "X=result\n",
        "#X.head()"
      ],
      "execution_count": 0,
      "outputs": []
    },
    {
      "metadata": {
        "id": "gAGpULdQ5TNF",
        "colab_type": "code",
        "colab": {}
      },
      "cell_type": "code",
      "source": [
        "from sklearn.preprocessing import StandardScaler\n",
        "scaler = StandardScaler()\n",
        "#scaler.fit(X)\n",
        "#X = scaler.transform(X)"
      ],
      "execution_count": 0,
      "outputs": []
    },
    {
      "metadata": {
        "id": "Zzs4Oc0m5WXq",
        "colab_type": "code",
        "colab": {}
      },
      "cell_type": "code",
      "source": [
        "from sklearn.model_selection import train_test_split\n",
        "X_train, X_test, y_train, y_test = train_test_split(X, y, test_size=0.3,stratify=y, random_state=1)"
      ],
      "execution_count": 0,
      "outputs": []
    },
    {
      "metadata": {
        "id": "IsqzkQTebY56",
        "colab_type": "text"
      },
      "cell_type": "markdown",
      "source": [
        "**We can go with different approach to handle the imbalace for the data **\n",
        "\n",
        "**First can by  using smote based oversampling**\n",
        "\n",
        "**Second can be by weight sensitive matrix **\n",
        "\n"
      ]
    },
    {
      "metadata": {
        "id": "XU261Pc99Pd_",
        "colab_type": "text"
      },
      "cell_type": "markdown",
      "source": [
        "### Method1 by Oversampling"
      ]
    },
    {
      "metadata": {
        "id": "ZHztmsw8_2mF",
        "colab_type": "code",
        "colab": {}
      },
      "cell_type": "code",
      "source": [
        "from imblearn.over_sampling import SMOTE\n",
        "## Importing resample\n",
        "from sklearn.utils import resample\n",
        "\n",
        "\n",
        "sm = SMOTE(random_state=2)\n",
        "X_train_res, y_train_res = sm.fit_sample(X_train, y_train.ravel())"
      ],
      "execution_count": 0,
      "outputs": []
    },
    {
      "metadata": {
        "id": "a10A9M4chHTe",
        "colab_type": "code",
        "outputId": "870c5a49-289d-4526-8259-f070d2fa8ffd",
        "colab": {
          "base_uri": "https://localhost:8080/",
          "height": 238
        }
      },
      "cell_type": "code",
      "source": [
        "print('y_train class counts')\n",
        "print(y_train.value_counts())\n",
        "print('')\n",
        "print('y_test class counts')\n",
        "print(y_test.value_counts())\n",
        "print('')\n",
        "print('y_train class counts after oversampling')\n",
        "print(y_train_res.shape)\n",
        "print('')"
      ],
      "execution_count": 0,
      "outputs": [
        {
          "output_type": "stream",
          "text": [
            "y_train class counts\n",
            "0    67346\n",
            "1    25243\n",
            "Name: consumed, dtype: int64\n",
            "\n",
            "y_test class counts\n",
            "0    28864\n",
            "1    10818\n",
            "Name: consumed, dtype: int64\n",
            "\n",
            "y_train class counts after oversampling\n",
            "(134692,)\n",
            "\n"
          ],
          "name": "stdout"
        }
      ]
    },
    {
      "metadata": {
        "id": "qs0LVLHo8sb4",
        "colab_type": "text"
      },
      "cell_type": "markdown",
      "source": [
        "Random forest model "
      ]
    },
    {
      "metadata": {
        "id": "PT-9OR9yhVfJ",
        "colab_type": "code",
        "outputId": "cf95c2c0-e781-4f76-b553-4d2d423c5574",
        "colab": {
          "base_uri": "https://localhost:8080/",
          "height": 105
        }
      },
      "cell_type": "code",
      "source": [
        "from sklearn.ensemble import RandomForestClassifier,GradientBoostingClassifier\n",
        "from sklearn.metrics import confusion_matrix,accuracy_score, roc_curve, auc\n",
        "rdmf = RandomForestClassifier( criterion='entropy')\n",
        "rdmf.fit(X_train_res, y_train_res)\n",
        "#rdmf_score = rdmf.score(X_test, y_test)\n",
        "#rdmf_score_tr = rdmf.score(X_train, y_train)\n",
        "pred = rdmf.predict(X_test)\n",
        "print(confusion_matrix(y_test, pred))\n",
        "\n",
        "fpr, tpr, auc_thresholds = roc_curve(y_test, pred)\n",
        "#print(auc(fpr, tpr))"
      ],
      "execution_count": 0,
      "outputs": [
        {
          "output_type": "stream",
          "text": [
            "/usr/local/lib/python3.6/dist-packages/sklearn/ensemble/forest.py:246: FutureWarning: The default value of n_estimators will change from 10 in version 0.20 to 100 in 0.22.\n",
            "  \"10 in version 0.20 to 100 in 0.22.\", FutureWarning)\n"
          ],
          "name": "stderr"
        },
        {
          "output_type": "stream",
          "text": [
            "[[14712 14152]\n",
            " [ 4874  5944]]\n"
          ],
          "name": "stdout"
        }
      ]
    },
    {
      "metadata": {
        "id": "-zr59TddiWvi",
        "colab_type": "code",
        "outputId": "caaa5abe-a4fa-452f-a30e-941bb23afec6",
        "colab": {
          "base_uri": "https://localhost:8080/",
          "height": 464
        }
      },
      "cell_type": "code",
      "source": [
        "y_test_legit = y_test.value_counts()[0]\n",
        "y_test_fraud = y_test.value_counts()[1]\n",
        "from sklearn.metrics import confusion_matrix,accuracy_score, roc_curve, auc\n",
        "from sklearn.metrics import classification_report\n",
        "\n",
        "def PlotConfusionMatrix(y_test,pred,y_test_legit,y_test_fraud):\n",
        "\n",
        "    cfn_matrix = confusion_matrix(y_test,pred)\n",
        "    cfn_norm_matrix = np.array([[1.0 / y_test_legit,1.0/y_test_legit],[1.0/y_test_fraud,1.0/y_test_fraud]])\n",
        "    \n",
        "\n",
        "    fig = plt.figure(figsize=(8,4))\n",
        "    ax = fig.add_subplot(1,2,1)\n",
        "    sns.heatmap(cfn_matrix,cmap='coolwarm_r',linewidths=0.5,fmt='1f',annot=True,ax=ax)\n",
        "    plt.title('Confusion Matrix')\n",
        "    plt.ylabel('Real Classes')\n",
        "    plt.xlabel('Predicted Classes')\n",
        "\n",
        "    \n",
        "    print('---Classification Report---')\n",
        "    print(classification_report(y_test,pred))\n",
        "\n",
        "PlotConfusionMatrix(y_test,pred,y_test_legit,y_test_fraud)\n"
      ],
      "execution_count": 0,
      "outputs": [
        {
          "output_type": "stream",
          "text": [
            "---Classification Report---\n",
            "              precision    recall  f1-score   support\n",
            "\n",
            "           0       0.75      0.51      0.61     28864\n",
            "           1       0.30      0.55      0.38     10818\n",
            "\n",
            "   micro avg       0.52      0.52      0.52     39682\n",
            "   macro avg       0.52      0.53      0.50     39682\n",
            "weighted avg       0.63      0.52      0.55     39682\n",
            "\n"
          ],
          "name": "stdout"
        },
        {
          "output_type": "display_data",
          "data": {
            "image/png": "[encoded data removed]",
            "text/plain": [
              "<Figure size 576x288 with 2 Axes>"
            ]
          },
          "metadata": {
            "tags": []
          }
        }
      ]
    },
    {
      "metadata": {
        "id": "7NIzy1c4_8k_",
        "colab_type": "code",
        "outputId": "fc3e53dd-603d-46d7-82ee-a2030d4650a1",
        "colab": {
          "base_uri": "https://localhost:8080/",
          "height": 170
        }
      },
      "cell_type": "code",
      "source": [
        "print('y_train class counts')\n",
        "print(y_train.value_counts())\n",
        "print('')\n",
        "print('y_test class counts')\n",
        "print(y_test.value_counts())"
      ],
      "execution_count": 0,
      "outputs": [
        {
          "output_type": "stream",
          "text": [
            "y_train class counts\n",
            "0    67346\n",
            "1    25243\n",
            "Name: consumed, dtype: int64\n",
            "\n",
            "y_test class counts\n",
            "0    28864\n",
            "1    10818\n",
            "Name: consumed, dtype: int64\n"
          ],
          "name": "stdout"
        }
      ]
    },
    {
      "metadata": {
        "id": "qdC3TscS9p1U",
        "colab_type": "text"
      },
      "cell_type": "markdown",
      "source": [
        "Logistic Regression model "
      ]
    },
    {
      "metadata": {
        "id": "zaRweyM9jSUD",
        "colab_type": "code",
        "outputId": "09da8a88-c8c8-478c-c90a-da028ef35029",
        "colab": {
          "base_uri": "https://localhost:8080/",
          "height": 518
        }
      },
      "cell_type": "code",
      "source": [
        "from sklearn.linear_model import LogisticRegression\n",
        "lr_model = LogisticRegression()\n",
        "lr_model.fit(X_train_res, y_train_res)\n",
        "\n",
        "pred = lr_model.predict(X_test)\n",
        "\n",
        "PlotConfusionMatrix(y_test,pred,y_test_legit,y_test_fraud)"
      ],
      "execution_count": 0,
      "outputs": [
        {
          "output_type": "stream",
          "text": [
            "/usr/local/lib/python3.6/dist-packages/sklearn/linear_model/logistic.py:433: FutureWarning: Default solver will be changed to 'lbfgs' in 0.22. Specify a solver to silence this warning.\n",
            "  FutureWarning)\n"
          ],
          "name": "stderr"
        },
        {
          "output_type": "stream",
          "text": [
            "---Classification Report---\n",
            "              precision    recall  f1-score   support\n",
            "\n",
            "           0       0.73      0.69      0.71     28864\n",
            "           1       0.29      0.33      0.31     10818\n",
            "\n",
            "   micro avg       0.59      0.59      0.59     39682\n",
            "   macro avg       0.51      0.51      0.51     39682\n",
            "weighted avg       0.61      0.59      0.60     39682\n",
            "\n"
          ],
          "name": "stdout"
        },
        {
          "output_type": "display_data",
          "data": {
            "image/png": "[encoded data removed]",
            "text/plain": [
              "<Figure size 576x288 with 2 Axes>"
            ]
          },
          "metadata": {
            "tags": []
          }
        }
      ]
    },
    {
      "metadata": {
        "id": "g_aesRJL5rr9",
        "colab_type": "code",
        "colab": {}
      },
      "cell_type": "code",
      "source": [
        "from sklearn.metrics import confusion_matrix,accuracy_score, roc_curve, auc\n",
        "false_positive_rate, recall, thresholds = roc_curve(y_test, pred)\n",
        "\n",
        "roc_auc = auc(false_positive_rate, recall)\n",
        "plt.figure()\n",
        "plt.title('Receiver Operating Characteristic (ROC)')\n",
        "plt.plot(false_positive_rate, recall, 'b', label = 'AUC = %0.3f' %roc_auc)\n",
        "plt.legend(loc='lower right')\n",
        "plt.plot([0,1], [0,1], 'r--')\n",
        "plt.xlim([0.0,1.0])\n",
        "plt.ylim([0.0,1.0])\n",
        "plt.ylabel('Recall')\n",
        "plt.xlabel('Fall-out (1-Specificity)')\n",
        "plt.show()"
      ],
      "execution_count": 0,
      "outputs": []
    },
    {
      "metadata": {
        "id": "1F-btCim-Ea8",
        "colab_type": "text"
      },
      "cell_type": "markdown",
      "source": [
        "Model evalution if i am not using any oversampling or wight technique"
      ]
    },
    {
      "metadata": {
        "id": "Y56Obpit5w_E",
        "colab_type": "code",
        "outputId": "f7834492-1c53-46a1-8197-8023fb0519da",
        "colab": {
          "base_uri": "https://localhost:8080/",
          "height": 88
        }
      },
      "cell_type": "code",
      "source": [
        "from sklearn.linear_model import LogisticRegression\n",
        "from sklearn.ensemble import RandomForestClassifier,GradientBoostingClassifier\n",
        "from sklearn.metrics import confusion_matrix,accuracy_score, roc_curve, auc\n",
        "rdmf = RandomForestClassifier( criterion='entropy')\n",
        "rdmf.fit(X_train, y_train)\n",
        "rdmf_score = rdmf.score(X_test, y_test)\n",
        "rdmf_score_tr = rdmf.score(X_train, y_train)\n",
        "\n",
        "print(rdmf_score_tr)\n",
        "y_pred = rdmf.predict(X_test)\n",
        "false_positive_rate, recall, thresholds = roc_curve(y_test, pred)"
      ],
      "execution_count": 0,
      "outputs": [
        {
          "output_type": "stream",
          "text": [
            "/usr/local/lib/python3.6/dist-packages/sklearn/ensemble/forest.py:246: FutureWarning: The default value of n_estimators will change from 10 in version 0.20 to 100 in 0.22.\n",
            "  \"10 in version 0.20 to 100 in 0.22.\", FutureWarning)\n"
          ],
          "name": "stderr"
        },
        {
          "output_type": "stream",
          "text": [
            "0.7383922496192852\n"
          ],
          "name": "stdout"
        }
      ]
    },
    {
      "metadata": {
        "id": "F1rR7YF7-dQv",
        "colab_type": "text"
      },
      "cell_type": "markdown",
      "source": [
        "**Model evaluation Without weight model**"
      ]
    },
    {
      "metadata": {
        "id": "-7B4wzg456mQ",
        "colab_type": "code",
        "outputId": "e9825736-6d7d-45d2-8fed-3c6f3bee8f13",
        "colab": {
          "base_uri": "https://localhost:8080/",
          "height": 532
        }
      },
      "cell_type": "code",
      "source": [
        "from sklearn.metrics import precision_score,recall_score,f1_score\n",
        "\n",
        "print(confusion_matrix( y_test,y_pred))\n",
        "print(\"percision:\", precision_score(y_test, y_pred))\n",
        "print(\"recall:\", recall_score(y_test, y_pred))\n",
        "#print(\"f1 score:\", f1_score(y_test, y_pred))\n",
        "\n",
        "PlotConfusionMatrix(y_test,y_pred,y_test_legit,y_test_fraud)"
      ],
      "execution_count": 0,
      "outputs": [
        {
          "output_type": "stream",
          "text": [
            "[[28378   486]\n",
            " [10595   223]]\n",
            "percision: 0.3145275035260931\n",
            "recall: 0.02061379182843409\n",
            "---Classification Report---\n",
            "              precision    recall  f1-score   support\n",
            "\n",
            "           0       0.73      0.98      0.84     28864\n",
            "           1       0.31      0.02      0.04     10818\n",
            "\n",
            "   micro avg       0.72      0.72      0.72     39682\n",
            "   macro avg       0.52      0.50      0.44     39682\n",
            "weighted avg       0.62      0.72      0.62     39682\n",
            "\n"
          ],
          "name": "stdout"
        },
        {
          "output_type": "display_data",
          "data": {
            "image/png": "[encoded data removed]",
            "text/plain": [
              "<Figure size 576x288 with 2 Axes>"
            ]
          },
          "metadata": {
            "tags": []
          }
        }
      ]
    },
    {
      "metadata": {
        "id": "K9Hg240U57Gz",
        "colab_type": "code",
        "colab": {}
      },
      "cell_type": "code",
      "source": [
        "X_train, X_test, y_train, y_test = train_test_split(X, y, test_size=0.3,stratify=y, random_state=1)\n"
      ],
      "execution_count": 0,
      "outputs": []
    },
    {
      "metadata": {
        "id": "CpVRhIfPccIm",
        "colab_type": "text"
      },
      "cell_type": "markdown",
      "source": [
        "### Method 2 Weight sensitive approcah"
      ]
    },
    {
      "metadata": {
        "id": "1RaU3RtU_cbY",
        "colab_type": "text"
      },
      "cell_type": "markdown",
      "source": [
        "I am only taking FP and FN  Cost in account. it can be vary as per..\n",
        " "
      ]
    },
    {
      "metadata": {
        "id": "20icSovtaVLZ",
        "colab_type": "code",
        "colab": {}
      },
      "cell_type": "code",
      "source": [
        "thresholds = [0.1, 0.2, 0.3, 0.4, 0.5, 0.6, 0.7, 0.8, 0.9]\n",
        "\n",
        "def create_cost_df(model, x, y, thresholds):\n",
        "    results = []\n",
        "    Amount = 100\n",
        "    for i in range(len(thresholds)):\n",
        "        y_pred = model.predict_proba(x)[:,1] > thresholds[i]\n",
        "        y_pred = 1*y_pred\n",
        "    \n",
        "        result_i = pd.DataFrame(\n",
        "            {\n",
        "                'Amt': Amount,\n",
        "                't': y,\n",
        "                'p': y_pred\n",
        "            }\n",
        "        )\n",
        "        \n",
        "\n",
        "        result_i[\"Ca\"] = 20\n",
        "        result_i[\"Cb\"]=1\n",
        "        result_i[\"cost\"] = result_i.t*( (1 - result_i.p)*result_i.Amt) + (1 - result_i.t)*result_i.Cb\n",
        "        result_i[\"recall_score\"] = recall_score(y, y_pred)\n",
        "        result_i[\"precision_score\"] = precision_score(y, y_pred)\n",
        "        \n",
        "        result_i = result_i.groupby(['recall_score','precision_score'])['cost'].mean().reset_index()\n",
        "        result_i['threshold'] = thresholds[i]\n",
        "        \n",
        "        results.append(result_i)\n",
        "    \n",
        "    results = pd.concat(results, axis=0, ignore_index=True)\n",
        "    return results"
      ],
      "execution_count": 0,
      "outputs": []
    },
    {
      "metadata": {
        "id": "VdfKMUm0_veL",
        "colab_type": "text"
      },
      "cell_type": "markdown",
      "source": [
        "calulationing for various threshold"
      ]
    },
    {
      "metadata": {
        "id": "oSLbJbKsAKe2",
        "colab_type": "text"
      },
      "cell_type": "markdown",
      "source": [
        "### according to requirement ( recall or precision) we have to select cost value for the above matrix."
      ]
    },
    {
      "metadata": {
        "id": "nWRuNC5OeHIZ",
        "colab_type": "code",
        "outputId": "067bdbb5-355a-4672-d14e-731e58653730",
        "colab": {
          "base_uri": "https://localhost:8080/",
          "height": 328
        }
      },
      "cell_type": "code",
      "source": [
        "cost_df_rand = create_cost_df(rdmf, X_train, y_train, thresholds)\n",
        "cost_df_rand"
      ],
      "execution_count": 0,
      "outputs": [
        {
          "output_type": "execute_result",
          "data": {
            "text/html": [
              "<div>\n",
              "<style scoped>\n",
              "    .dataframe tbody tr th:only-of-type {\n",
              "        vertical-align: middle;\n",
              "    }\n",
              "\n",
              "    .dataframe tbody tr th {\n",
              "        vertical-align: top;\n",
              "    }\n",
              "\n",
              "    .dataframe thead th {\n",
              "        text-align: right;\n",
              "    }\n",
              "</style>\n",
              "<table border=\"1\" class=\"dataframe\">\n",
              "  <thead>\n",
              "    <tr style=\"text-align: right;\">\n",
              "      <th></th>\n",
              "      <th>recall_score</th>\n",
              "      <th>precision_score</th>\n",
              "      <th>cost</th>\n",
              "      <th>threshold</th>\n",
              "    </tr>\n",
              "  </thead>\n",
              "  <tbody>\n",
              "    <tr>\n",
              "      <th>0</th>\n",
              "      <td>0.995959</td>\n",
              "      <td>0.285184</td>\n",
              "      <td>0.837529</td>\n",
              "      <td>0.1</td>\n",
              "    </tr>\n",
              "    <tr>\n",
              "      <th>1</th>\n",
              "      <td>0.934675</td>\n",
              "      <td>0.299793</td>\n",
              "      <td>2.508354</td>\n",
              "      <td>0.2</td>\n",
              "    </tr>\n",
              "    <tr>\n",
              "      <th>2</th>\n",
              "      <td>0.463416</td>\n",
              "      <td>0.352987</td>\n",
              "      <td>15.356533</td>\n",
              "      <td>0.3</td>\n",
              "    </tr>\n",
              "    <tr>\n",
              "      <th>3</th>\n",
              "      <td>0.085925</td>\n",
              "      <td>0.615319</td>\n",
              "      <td>25.648252</td>\n",
              "      <td>0.4</td>\n",
              "    </tr>\n",
              "    <tr>\n",
              "      <th>4</th>\n",
              "      <td>0.057442</td>\n",
              "      <td>0.771687</td>\n",
              "      <td>26.424802</td>\n",
              "      <td>0.5</td>\n",
              "    </tr>\n",
              "    <tr>\n",
              "      <th>5</th>\n",
              "      <td>0.039773</td>\n",
              "      <td>0.882250</td>\n",
              "      <td>26.906501</td>\n",
              "      <td>0.6</td>\n",
              "    </tr>\n",
              "    <tr>\n",
              "      <th>6</th>\n",
              "      <td>0.027414</td>\n",
              "      <td>0.942779</td>\n",
              "      <td>27.243474</td>\n",
              "      <td>0.7</td>\n",
              "    </tr>\n",
              "    <tr>\n",
              "      <th>7</th>\n",
              "      <td>0.014658</td>\n",
              "      <td>0.984043</td>\n",
              "      <td>27.591247</td>\n",
              "      <td>0.8</td>\n",
              "    </tr>\n",
              "    <tr>\n",
              "      <th>8</th>\n",
              "      <td>0.006180</td>\n",
              "      <td>1.000000</td>\n",
              "      <td>27.822376</td>\n",
              "      <td>0.9</td>\n",
              "    </tr>\n",
              "  </tbody>\n",
              "</table>\n",
              "</div>"
            ],
            "text/plain": [
              "   recall_score  precision_score       cost  threshold\n",
              "0      0.995959         0.285184   0.837529        0.1\n",
              "1      0.934675         0.299793   2.508354        0.2\n",
              "2      0.463416         0.352987  15.356533        0.3\n",
              "3      0.085925         0.615319  25.648252        0.4\n",
              "4      0.057442         0.771687  26.424802        0.5\n",
              "5      0.039773         0.882250  26.906501        0.6\n",
              "6      0.027414         0.942779  27.243474        0.7\n",
              "7      0.014658         0.984043  27.591247        0.8\n",
              "8      0.006180         1.000000  27.822376        0.9"
            ]
          },
          "metadata": {
            "tags": []
          },
          "execution_count": 35
        }
      ]
    },
    {
      "metadata": {
        "id": "7-c57KQQEL6Q",
        "colab_type": "code",
        "outputId": "77fd7d59-3ead-4119-a385-597e53a607bf",
        "colab": {
          "base_uri": "https://localhost:8080/",
          "height": 51
        }
      },
      "cell_type": "code",
      "source": [
        "y_test_pred = rdmf.predict_proba(X_test)[:,1] > 0.3\n",
        "y_test_pred = 1*y_test_pred\n",
        "\n",
        "y_test_true = y_test\n",
        "confusion_matrix(y_test_true, y_test_pred)\n",
        "\n"
      ],
      "execution_count": 0,
      "outputs": [
        {
          "output_type": "execute_result",
          "data": {
            "text/plain": [
              "array([[18955,  9909],\n",
              "       [ 6515,  4303]])"
            ]
          },
          "metadata": {
            "tags": []
          },
          "execution_count": 39
        }
      ]
    },
    {
      "metadata": {
        "id": "qyIzlBfyABIC",
        "colab_type": "text"
      },
      "cell_type": "markdown",
      "source": [
        "same can be calculate for other classifier model"
      ]
    },
    {
      "metadata": {
        "id": "AVlrY0K8exeY",
        "colab_type": "code",
        "colab": {}
      },
      "cell_type": "code",
      "source": [
        "cost_df_lr = create_cost_df(lr_model, X, y, thresholds)\n",
        "cost_df_rand"
      ],
      "execution_count": 0,
      "outputs": []
    },
    {
      "metadata": {
        "id": "aV6ip5qWA-MD",
        "colab_type": "text"
      },
      "cell_type": "markdown",
      "source": [
        "**for above models Feature Engineering, Hyperparament tuning and Weight parameter selction will definetely improve accuracy , due to some time constraint i am leaving that part.**\n",
        "\n",
        "** Request you to consider the approach.**"
      ]
    },
    {
      "metadata": {
        "id": "lxEsnrdQCPAk",
        "colab_type": "text"
      },
      "cell_type": "markdown",
      "source": [
        "## Thanks"
      ]
    }
  ]
}